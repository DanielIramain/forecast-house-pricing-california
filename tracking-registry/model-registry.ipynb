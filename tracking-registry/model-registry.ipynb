{
 "cells": [
  {
   "cell_type": "code",
   "execution_count": 1,
   "id": "44d231bf-a0e3-4ff2-82b1-ce1ac2c108bf",
   "metadata": {},
   "outputs": [],
   "source": [
    "import pickle\n",
    "\n",
    "import mlflow\n",
    "from sklearn.linear_model import LinearRegression\n",
    "from sklearn.metrics import root_mean_squared_error"
   ]
  },
  {
   "cell_type": "code",
   "execution_count": 7,
   "id": "c1ba9572-d8ff-4b06-b437-7b158dfb5051",
   "metadata": {},
   "outputs": [
    {
     "name": "stdout",
     "output_type": "stream",
     "text": [
      "Loaded data: {'X_train': <Compressed Sparse Row sparse matrix of dtype 'float64'\n",
      "\twith 33024 stored elements and shape (16512, 6)>, 'X_val': <Compressed Sparse Row sparse matrix of dtype 'float64'\n",
      "\twith 8256 stored elements and shape (4128, 6)>, 'y_train': array([500001., 253300., 268600., ..., 194100., 133400., 139500.],\n",
      "      shape=(16512,)), 'y_val': array([ 57600., 237500., 500001., ..., 500001., 186200., 213800.],\n",
      "      shape=(4128,))}\n"
     ]
    }
   ],
   "source": [
    "# Load the pickled data\n",
    "try:\n",
    "    with open('../prediction-model/datasets/housing/split_data.pkl', 'rb') as file:\n",
    "        loaded_data = pickle.load(file)\n",
    "    print(\"Loaded data:\", loaded_data)\n",
    "except FileNotFoundError:\n",
    "    print(\"Error: The file 'split_data.pkl' was not found.\")\n",
    "except Exception as e:\n",
    "    print(f\"An error occurred during loading: {e}\")"
   ]
  },
  {
   "cell_type": "code",
   "execution_count": 9,
   "id": "8b7d8c53-587b-4878-90d9-1aa88eb20928",
   "metadata": {},
   "outputs": [
    {
     "data": {
      "text/plain": [
       "<Experiment: artifact_location='mlflow-artifacts:/231687216347743342', creation_time=1752323909520, experiment_id='231687216347743342', last_update_time=1752323909520, lifecycle_stage='active', name='forecast-pricing-california', tags={}>"
      ]
     },
     "execution_count": 9,
     "metadata": {},
     "output_type": "execute_result"
    }
   ],
   "source": [
    "mlflow.set_tracking_uri(\"http://127.0.0.1:8080/\")\n",
    "mlflow.set_experiment(\"forecast-pricing-california\")"
   ]
  },
  {
   "cell_type": "code",
   "execution_count": 10,
   "id": "9989f78f-097c-48f1-a58c-36302e708a2e",
   "metadata": {},
   "outputs": [
    {
     "name": "stdout",
     "output_type": "stream",
     "text": [
      "🏃 View run resilient-toad-465 at: http://127.0.0.1:8080/#/experiments/231687216347743342/runs/ac3adfb57cab4db788c7d8fb4bf5d056\n",
      "🧪 View experiment at: http://127.0.0.1:8080/#/experiments/231687216347743342\n"
     ]
    }
   ],
   "source": [
    "with mlflow.start_run():\n",
    "\n",
    "    mlflow.set_tag(\"Developer\", \"Dardo Daniel Iramain\")\n",
    "\n",
    "    mlflow.log_param(\"data-path\", \"../prediction-model/datasets/housing/housing.csv\")\n",
    "\n",
    "    alpha = 0.1\n",
    "    mlflow.log_param(\"alpha\", alpha)\n",
    "    \n",
    "    lr = LinearRegression()\n",
    "    lr.fit(loaded_data['X_train'], loaded_data['y_train'])\n",
    "\n",
    "    y_pred = lr.predict(loaded_data['X_val'])\n",
    "    rmse = root_mean_squared_error(loaded_data['y_val'], y_pred)\n",
    "    mlflow.log_metric(\"rmse\", rmse)\n",
    "\n",
    "    mlflow.log_artifact(local_path=\"../prediction-model/models/lin_reg.bin\", artifact_path=\"models_pickle\")"
   ]
  }
 ],
 "metadata": {
  "kernelspec": {
   "display_name": "Python 3 (ipykernel)",
   "language": "python",
   "name": "python3"
  },
  "language_info": {
   "codemirror_mode": {
    "name": "ipython",
    "version": 3
   },
   "file_extension": ".py",
   "mimetype": "text/x-python",
   "name": "python",
   "nbconvert_exporter": "python",
   "pygments_lexer": "ipython3",
   "version": "3.12.1"
  }
 },
 "nbformat": 4,
 "nbformat_minor": 5
}
